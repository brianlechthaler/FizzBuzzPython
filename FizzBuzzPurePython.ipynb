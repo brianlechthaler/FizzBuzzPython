{
  "nbformat": 4,
  "nbformat_minor": 0,
  "metadata": {
    "colab": {
      "name": "FizzBuzzPurePython.ipynb",
      "provenance": [],
      "collapsed_sections": []
    },
    "kernelspec": {
      "name": "python3",
      "display_name": "Python 3"
    },
    "language_info": {
      "name": "python"
    }
  },
  "cells": [
    {
      "cell_type": "markdown",
      "metadata": {
        "id": "O60V27zJBZ3n"
      },
      "source": [
        "# FizzBuzz in Pure Python\n",
        "\n",
        "Last updated *Monday, May 10th, 2021.*\n",
        "\n",
        "by [Brian Lechthaler](https://github.com/brianlechthaler) (they/them)\n"
      ]
    },
    {
      "cell_type": "markdown",
      "metadata": {
        "id": "y5KFk5gbppFL"
      },
      "source": [
        "## Define Standard Rules\n",
        "In case the `fizz` and/or `buzz` values differ from 3 and 5 respectively, and/or the range `start`/`stop` points differ from `0` and `100` respectively."
      ]
    },
    {
      "cell_type": "code",
      "metadata": {
        "id": "RJRTaikIpF0c"
      },
      "source": [
        "standard_rules = {\n",
        "    'divisor': { # Standard Divisor Rules\n",
        "        'fizz': 3,    # Number should produce a 'fizz' if evenly divisible by 3.\n",
        "        'buzz': 5},   # Number should produce a 'fizz' if evenly divisible by 5.\n",
        "    'range': {   # Standard Range Rules\n",
        "        'start': 0,   # Define the starting point of the range as 0.\n",
        "        'stop': 100}} # Define the ending point of the range as 100."
      ],
      "execution_count": 1,
      "outputs": []
    },
    {
      "cell_type": "markdown",
      "metadata": {
        "id": "XLXiw4cH9aDZ"
      },
      "source": [
        "## Define a Class for Checking Divisiblity\n",
        "This will help us determine whether our number is a `Fizz`, `Buzz`, or `FizzBuzz`!"
      ]
    },
    {
      "cell_type": "code",
      "metadata": {
        "id": "9HnQdqIpszwP"
      },
      "source": [
        "class DivisibilityCheck:\n",
        "  def __init__(self,\n",
        "               dividend=None,\n",
        "               divisor=None):\n",
        "    # Set the dividend\n",
        "    self.dividend = dividend\n",
        "    # Set the divisor\n",
        "    self.divisor = divisor\n",
        "\n",
        "  def euclidian_quotient(self):\n",
        "    # Return the remainder euclidian quotient\n",
        "    return (self.dividend\n",
        "            %\n",
        "            self.divisor)\n",
        "    \n",
        "  def evenly_divisible(self):\n",
        "    # Simply return true if the remainder is 0, otherwise return false.\n",
        "    return True if self.euclidian_quotient() == 0 else False"
      ],
      "execution_count": 2,
      "outputs": []
    },
    {
      "cell_type": "markdown",
      "metadata": {
        "id": "7s-PpXFc83cH"
      },
      "source": [
        "## Create Class for `FizzBuzz`ing a Specified Range\n",
        "Creates a range from specified rules, then using euclidian division determines if a given number should be declared `Fizz`, `Buzz`, or `FizzBuzz`.\n",
        "\n",
        "Given $x$ is our integer, if the remainder $\\mathbb{R}$ for the euclidian quotient of $x/3=0$, mark the integer as `Fizz`. Similarly, if the remainder  $\\mathbb{R}$ for the euclidian quotient of $x/5=0$, mark the integer as `Buzz`. Should the remainder $\\mathbb{R}$ for the euclidian quotients $x/5,3=0$, mark the integer as `FizzBuzz`."
      ]
    },
    {
      "cell_type": "code",
      "metadata": {
        "id": "pc5F61X1ynlR"
      },
      "source": [
        "class FizzBuzzRuntime:\n",
        "  def __init__(self,\n",
        "               rules=standard_rules):\n",
        "    \n",
        "    # Set the divisor value for 'fizz' from specified rules\n",
        "    self.fizz = rules['divisor']['fizz']\n",
        "\n",
        "    # Set the divisor value for 'buzz' from specified rules\n",
        "    self.buzz = rules['divisor']['buzz']\n",
        "\n",
        "    # Create a range from specified rules\n",
        "    self.candidates = range(\n",
        "        rules['range']['start'],\n",
        "        rules['range']['stop']\n",
        "    )\n",
        "\n",
        "  def is_fizz(self,\n",
        "              candidate=None):\n",
        "    # Run the DivisibilityCheck, returning results.\n",
        "    return DivisibilityCheck(dividend=candidate,\n",
        "                             divisor=self.fizz).evenly_divisible()\n",
        "    \n",
        "  def is_buzz(self,\n",
        "              candidate=None):\n",
        "    # Run the DivisibilityCheck, returning results.\n",
        "    return DivisibilityCheck(dividend=candidate,\n",
        "                             divisor=self.buzz).evenly_divisible()\n",
        "    \n",
        "  def int_to_fizzbuzz(self,\n",
        "                      integer=None):\n",
        "    # It's impossible to divide anything by zero...\n",
        "    if integer == 0:\n",
        "      # So let's make sure we don't do that.\n",
        "      return integer\n",
        "\n",
        "    string_to_return = ''\n",
        "    \n",
        "    # Check if we need to 'Fizz'\n",
        "    if self.is_fizz(integer) is True:\n",
        "      # Append 'Fizz' to the string we will return\n",
        "      string_to_return += 'Fizz'\n",
        "    \n",
        "    # Check if we need to 'Buzz'\n",
        "    if self.is_buzz(integer) is True:\n",
        "      # Append 'Buzz' to the string we will return\n",
        "      string_to_return += 'Buzz'\n",
        "    \n",
        "    # Prevent returning an empty string if no match for fizz or buzz\n",
        "    if string_to_return is not '':\n",
        "      return string_to_return\n",
        "    elif string_to_return is '':\n",
        "      return integer\n",
        "\n",
        "  def run(self):\n",
        "    # Run the algorithm using the magic of list comprehensions\n",
        "    return [self.int_to_fizzbuzz(candidate) \n",
        "            for candidate \n",
        "            in self.candidates]"
      ],
      "execution_count": 3,
      "outputs": []
    },
    {
      "cell_type": "markdown",
      "metadata": {
        "id": "fjFc7yLt9LCn"
      },
      "source": [
        "## Verify Everything Works\n",
        "No point in writing all this code if we can't verify it works as intended! Here we finally run the runtime and see the results."
      ]
    },
    {
      "cell_type": "code",
      "metadata": {
        "colab": {
          "base_uri": "https://localhost:8080/"
        },
        "id": "CCmtnLxH6Teq",
        "outputId": "8f5dbc70-9c7c-4c87-fa25-3396d3a9711b"
      },
      "source": [
        "FizzBuzzRuntime().run()"
      ],
      "execution_count": 4,
      "outputs": [
        {
          "output_type": "execute_result",
          "data": {
            "text/plain": [
              "[0,\n",
              " 1,\n",
              " 2,\n",
              " 'Fizz',\n",
              " 4,\n",
              " 'Buzz',\n",
              " 'Fizz',\n",
              " 7,\n",
              " 8,\n",
              " 'Fizz',\n",
              " 'Buzz',\n",
              " 11,\n",
              " 'Fizz',\n",
              " 13,\n",
              " 14,\n",
              " 'FizzBuzz',\n",
              " 16,\n",
              " 17,\n",
              " 'Fizz',\n",
              " 19,\n",
              " 'Buzz',\n",
              " 'Fizz',\n",
              " 22,\n",
              " 23,\n",
              " 'Fizz',\n",
              " 'Buzz',\n",
              " 26,\n",
              " 'Fizz',\n",
              " 28,\n",
              " 29,\n",
              " 'FizzBuzz',\n",
              " 31,\n",
              " 32,\n",
              " 'Fizz',\n",
              " 34,\n",
              " 'Buzz',\n",
              " 'Fizz',\n",
              " 37,\n",
              " 38,\n",
              " 'Fizz',\n",
              " 'Buzz',\n",
              " 41,\n",
              " 'Fizz',\n",
              " 43,\n",
              " 44,\n",
              " 'FizzBuzz',\n",
              " 46,\n",
              " 47,\n",
              " 'Fizz',\n",
              " 49,\n",
              " 'Buzz',\n",
              " 'Fizz',\n",
              " 52,\n",
              " 53,\n",
              " 'Fizz',\n",
              " 'Buzz',\n",
              " 56,\n",
              " 'Fizz',\n",
              " 58,\n",
              " 59,\n",
              " 'FizzBuzz',\n",
              " 61,\n",
              " 62,\n",
              " 'Fizz',\n",
              " 64,\n",
              " 'Buzz',\n",
              " 'Fizz',\n",
              " 67,\n",
              " 68,\n",
              " 'Fizz',\n",
              " 'Buzz',\n",
              " 71,\n",
              " 'Fizz',\n",
              " 73,\n",
              " 74,\n",
              " 'FizzBuzz',\n",
              " 76,\n",
              " 77,\n",
              " 'Fizz',\n",
              " 79,\n",
              " 'Buzz',\n",
              " 'Fizz',\n",
              " 82,\n",
              " 83,\n",
              " 'Fizz',\n",
              " 'Buzz',\n",
              " 86,\n",
              " 'Fizz',\n",
              " 88,\n",
              " 89,\n",
              " 'FizzBuzz',\n",
              " 91,\n",
              " 92,\n",
              " 'Fizz',\n",
              " 94,\n",
              " 'Buzz',\n",
              " 'Fizz',\n",
              " 97,\n",
              " 98,\n",
              " 'Fizz']"
            ]
          },
          "metadata": {
            "tags": []
          },
          "execution_count": 4
        }
      ]
    }
  ]
}